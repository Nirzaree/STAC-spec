{
 "cells": [
  {
   "cell_type": "markdown",
   "id": "39c06b3b",
   "metadata": {},
   "source": [
    "1. Load raster from EE\n",
    "2. Load style file from drive\n",
    "3. Generate STAC item   \n",
    "    a. generate bounding box  \n",
    "    b. start and end date from file  \n",
    "    c. Create COG  \n",
    "    d. Generate thumbnail and save it  \n",
    "   "
   ]
  },
  {
   "cell_type": "code",
   "execution_count": null,
   "id": "cb643817",
   "metadata": {},
   "outputs": [],
   "source": [
    "# !pip install pystac[validation]"
   ]
  },
  {
   "cell_type": "code",
   "execution_count": null,
   "id": "cad18133",
   "metadata": {},
   "outputs": [],
   "source": [
    "# ! pip install pystac\n",
    "# ! pip install rasterio\n",
    "# ! pip install shapely"
   ]
  },
  {
   "cell_type": "code",
   "execution_count": 33,
   "id": "7961886f",
   "metadata": {},
   "outputs": [],
   "source": [
    "# !pip install python-dateutil"
   ]
  },
  {
   "cell_type": "code",
   "execution_count": 46,
   "id": "ce0f9c42",
   "metadata": {},
   "outputs": [],
   "source": [
    "import os\n",
    "import datetime\n",
    "import rasterio\n",
    "import urllib.request\n",
    "import pystac\n",
    "import dateutil\n",
    "\n",
    "from shapely.geometry import Polygon, mapping\n",
    "from tempfile import TemporaryDirectory\n",
    "\n",
    "from pystac.extensions.eo import Band, EOExtension\n",
    "from pystac.extensions.view import ViewExtension\n",
    "from pystac.extensions.projection import ProjectionExtension\n",
    "import pystac.extensions.raster "
   ]
  },
  {
   "cell_type": "code",
   "execution_count": 2,
   "id": "e48d7755",
   "metadata": {},
   "outputs": [
    {
     "data": {
      "text/plain": [
       "'/home/nirzaree/Code/GitClones/STAC-spec'"
      ]
     },
     "execution_count": 2,
     "metadata": {},
     "output_type": "execute_result"
    }
   ],
   "source": [
    "os.getcwd()"
   ]
  },
  {
   "cell_type": "code",
   "execution_count": null,
   "id": "9406e1d6",
   "metadata": {},
   "outputs": [],
   "source": [
    "# Set the temporary directory to store source data\n",
    "# tmp_dir = TemporaryDirectory()\n",
    "img_path = os.path.join('data',\n",
    "                        'saraikela-kharsawan_gobindpur_2019-07-01_2020-06-30_LULCmap_10m.tif')"
   ]
  },
  {
   "cell_type": "code",
   "execution_count": 41,
   "id": "4ec7785b",
   "metadata": {},
   "outputs": [
    {
     "data": {
      "text/plain": [
       "'data/saraikela-kharsawan_gobindpur_2019-07-01_2020-06-30_LULCmap_10m.tif'"
      ]
     },
     "execution_count": 41,
     "metadata": {},
     "output_type": "execute_result"
    }
   ],
   "source": [
    "img_path"
   ]
  },
  {
   "cell_type": "code",
   "execution_count": null,
   "id": "1ce1c83f",
   "metadata": {},
   "outputs": [],
   "source": [
    "def get_bbox_and_footprint(raster):\n",
    "    with rasterio.open(raster) as r:\n",
    "        crs = r.crs\n",
    "        res = r.res\n",
    "        transform = r.transform\n",
    "        linear_units = crs.linear_units\n",
    "        bounds = r.bounds\n",
    "        bbox = [bounds.left, bounds.bottom, bounds.right, bounds.top]\n",
    "        footprint = Polygon([\n",
    "            [bounds.left, bounds.bottom],\n",
    "            [bounds.left, bounds.top],\n",
    "            [bounds.right, bounds.top],\n",
    "            [bounds.right, bounds.bottom]\n",
    "        ])       \n",
    "        tags = r.tags()\n",
    "        date_str = tags.get(\"TIFFTAG_DATETIME\")\n",
    "        print(date_str)\n",
    "        return (bbox, mapping(footprint),crs,res,transform,linear_units)"
   ]
  },
  {
   "cell_type": "code",
   "execution_count": 51,
   "id": "25fee561",
   "metadata": {},
   "outputs": [
    {
     "ename": "AttributeError",
     "evalue": "'DatasetReader' object has no attribute 'dtype'",
     "output_type": "error",
     "traceback": [
      "\u001b[31m---------------------------------------------------------------------------\u001b[39m",
      "\u001b[31mAttributeError\u001b[39m                            Traceback (most recent call last)",
      "\u001b[36mCell\u001b[39m\u001b[36m \u001b[39m\u001b[32mIn[51]\u001b[39m\u001b[32m, line 1\u001b[39m\n\u001b[32m----> \u001b[39m\u001b[32m1\u001b[39m bbox, footprint,crs,res,datatype,transform,linear_units = \u001b[43mget_bbox_and_footprint\u001b[49m\u001b[43m(\u001b[49m\u001b[43mimg_path\u001b[49m\u001b[43m)\u001b[49m\n",
      "\u001b[36mCell\u001b[39m\u001b[36m \u001b[39m\u001b[32mIn[50]\u001b[39m\u001b[32m, line 5\u001b[39m, in \u001b[36mget_bbox_and_footprint\u001b[39m\u001b[34m(raster)\u001b[39m\n\u001b[32m      3\u001b[39m crs = r.crs\n\u001b[32m      4\u001b[39m res = r.res\n\u001b[32m----> \u001b[39m\u001b[32m5\u001b[39m datatype = \u001b[43mr\u001b[49m\u001b[43m.\u001b[49m\u001b[43mdtype\u001b[49m\n\u001b[32m      6\u001b[39m transform = r.transform\n\u001b[32m      7\u001b[39m linear_units = crs.linear_units\n",
      "\u001b[31mAttributeError\u001b[39m: 'DatasetReader' object has no attribute 'dtype'"
     ]
    }
   ],
   "source": [
    "bbox, footprint,crs,res,datatype,transform,linear_units = get_bbox_and_footprint(img_path)"
   ]
  },
  {
   "cell_type": "code",
   "execution_count": 18,
   "id": "f8788a8b",
   "metadata": {},
   "outputs": [
    {
     "data": {
      "text/plain": [
       "'saraikela-kharsawan_gobindpur_2019-07-01_2020-06-30_LULCmap_10m.tif'"
      ]
     },
     "execution_count": 18,
     "metadata": {},
     "output_type": "execute_result"
    }
   ],
   "source": [
    "filename = os.path.basename(img_path)\n",
    "filename"
   ]
  },
  {
   "cell_type": "code",
   "execution_count": 19,
   "id": "0b71c20a",
   "metadata": {},
   "outputs": [],
   "source": [
    "district,block,start_date,end_date,layer_description,scale = filename.split('_')"
   ]
  },
  {
   "cell_type": "code",
   "execution_count": 31,
   "id": "7805c3df",
   "metadata": {},
   "outputs": [
    {
     "name": "stdout",
     "output_type": "stream",
     "text": [
      "district = saraikela-kharsawan ,\n",
      "block =  gobindpur \n",
      "start_date =  2019-07-01 \n",
      "end_date =  2020-06-30 \n",
      "layer_description =  LULCmap \n",
      "scale =  10m.tif\n"
     ]
    }
   ],
   "source": [
    "print(\"district =\",district,\n",
    "      \",\\nblock = \",block,\n",
    "      \"\\nstart_date = \",start_date,\n",
    "      \"\\nend_date = \",end_date,\n",
    "      \"\\nlayer_description = \",layer_description,\n",
    "      \"\\nscale = \",scale\n",
    "      )"
   ]
  },
  {
   "cell_type": "code",
   "execution_count": 16,
   "id": "bc464354",
   "metadata": {},
   "outputs": [
    {
     "data": {
      "text/plain": [
       "'2019-07-01'"
      ]
     },
     "execution_count": 16,
     "metadata": {},
     "output_type": "execute_result"
    }
   ],
   "source": [
    "start_date"
   ]
  },
  {
   "cell_type": "code",
   "execution_count": 17,
   "id": "332cce4a",
   "metadata": {},
   "outputs": [
    {
     "data": {
      "text/plain": [
       "'2020-06-30'"
      ]
     },
     "execution_count": 17,
     "metadata": {},
     "output_type": "execute_result"
    }
   ],
   "source": [
    "end_date"
   ]
  },
  {
   "cell_type": "code",
   "execution_count": 35,
   "id": "140d9afe",
   "metadata": {},
   "outputs": [],
   "source": [
    "def is_date(string, fuzzy=False):\n",
    "    \"\"\"\n",
    "    Return whether the string can be interpreted as a date.\n",
    "\n",
    "    :param string: str, string to check for date\n",
    "    :param fuzzy: bool, ignore unknown tokens in string if True\n",
    "    \"\"\"\n",
    "    try: \n",
    "        dateutil.parser.parse(string, fuzzy=fuzzy)\n",
    "        return True\n",
    "\n",
    "    except ValueError:\n",
    "        return False"
   ]
  },
  {
   "cell_type": "code",
   "execution_count": null,
   "id": "306adf8b",
   "metadata": {},
   "outputs": [],
   "source": [
    "def get_start_date_and_end_date(filename):\n",
    "    try:\n",
    "        district,block,start_date,end_date,layer_description,scale = filename.split('_')\n",
    "        if (is_date(start_date) & (is_date(end_date))):\n",
    "            \n",
    "    except Exception as e:\n",
    "        print(\"File format not as expected in {filename}\")"
   ]
  },
  {
   "cell_type": "code",
   "execution_count": 49,
   "id": "cd5bf41e",
   "metadata": {},
   "outputs": [],
   "source": [
    "from pystac.extensions.raster import DataType"
   ]
  },
  {
   "cell_type": "code",
   "execution_count": 48,
   "id": "9f178911",
   "metadata": {},
   "outputs": [],
   "source": [
    "item = pystac.Item(id='raster-poc',\n",
    "                      geometry=footprint,\n",
    "                      bbox=bbox,\n",
    "                      datetime=datetime.datetime.now(),\n",
    "                    #   start_datetime = start_date,\n",
    "                    #   end_datetime=end_date,\n",
    "                      properties={                        \n",
    "                      })"
   ]
  },
  {
   "cell_type": "code",
   "execution_count": null,
   "id": "728452e7",
   "metadata": {},
   "outputs": [],
   "source": [
    "  with rasterio.open('your_raster_file.tif') as src:\n",
    "        data_type = src.dtype\n",
    "        print(f\"The data type of the raster is: {data_type}\")"
   ]
  },
  {
   "cell_type": "code",
   "execution_count": null,
   "id": "890c8a5e",
   "metadata": {},
   "outputs": [],
   "source": [
    "# item.validate()"
   ]
  },
  {
   "cell_type": "code",
   "execution_count": null,
   "id": "2168fdc7",
   "metadata": {},
   "outputs": [],
   "source": [
    "with rasterio.open(img_path) as r:\n",
    "    img = r.read()"
   ]
  },
  {
   "cell_type": "code",
   "execution_count": null,
   "id": "4aae4baf",
   "metadata": {},
   "outputs": [],
   "source": [
    "# !pip install matplotlib"
   ]
  },
  {
   "cell_type": "code",
   "execution_count": null,
   "id": "231dec0d",
   "metadata": {},
   "outputs": [],
   "source": [
    "import matplotlib.pyplot as plt"
   ]
  },
  {
   "cell_type": "code",
   "execution_count": null,
   "id": "379c4343",
   "metadata": {},
   "outputs": [],
   "source": [
    "r.count"
   ]
  },
  {
   "cell_type": "code",
   "execution_count": null,
   "id": "6da9f33c",
   "metadata": {},
   "outputs": [],
   "source": [
    "img2 = img.reshape(img.shape[1],img.shape[2])"
   ]
  },
  {
   "cell_type": "code",
   "execution_count": null,
   "id": "af3cd6ce",
   "metadata": {},
   "outputs": [],
   "source": [
    "img2.shape"
   ]
  },
  {
   "cell_type": "code",
   "execution_count": null,
   "id": "8601924a",
   "metadata": {},
   "outputs": [],
   "source": [
    "vis_params = {\n",
    "    'min': 0,\n",
    "    'max': 12,\n",
    "    'palette': ['#000000',  # 0 Black- background\n",
    "            '#ff0000',   # 1 Red- builtup\n",
    "            '#74ccf4', # 2 Light Blue- kharif water\n",
    "            '#1ca3ec', # 3 Blue- kharif and rabi water\n",
    "            '#0f5e9c', # 4 Dark Blue- kharif and rabi and zaid water\n",
    "            '#f1c232', # 5 Yellow- croplands\n",
    "            '#38761d', # 6 Dark Green- Tree/Forests\n",
    "            '#A9A9A9', # 7 Gray- barren lands\n",
    "            '#f1c232', # 8 Yellow- Single Kharif Cropping\n",
    "            '#f59d22', # 9 Mustard- Single Non-Kharif Cropping\n",
    "            '#e68600', # 10 Orange- Double Cropping\n",
    "            '#b3561d', # 11 Brown- Triple Cropping\n",
    "            '#c39797' # 12 Mauve- Shrubs_Scrubs\n",
    "            ]\n",
    "    }"
   ]
  },
  {
   "cell_type": "code",
   "execution_count": null,
   "id": "bada457f",
   "metadata": {},
   "outputs": [],
   "source": [
    "import matplotlib"
   ]
  },
  {
   "cell_type": "code",
   "execution_count": null,
   "id": "1d80e88a",
   "metadata": {},
   "outputs": [],
   "source": [
    "vis_params['palette']"
   ]
  },
  {
   "cell_type": "code",
   "execution_count": null,
   "id": "6098e8f2",
   "metadata": {},
   "outputs": [],
   "source": [
    "cmap = matplotlib.colors.ListedColormap(vis_params['palette'])\n",
    "norm = matplotlib.colors.BoundaryNorm(range(len(vis_params['palette'])), cmap.N)\n"
   ]
  },
  {
   "cell_type": "code",
   "execution_count": null,
   "id": "ed1c138c",
   "metadata": {},
   "outputs": [],
   "source": [
    "plt.imshow(img2,interpolation='none', cmap=cmap, norm=norm) #https://stackoverflow.com/questions/32766062/how-to-determine-the-colours-when-using-matplotlib-pyplot-imshow"
   ]
  },
  {
   "cell_type": "code",
   "execution_count": null,
   "id": "4c0f8a1b",
   "metadata": {},
   "outputs": [],
   "source": [
    "import ee"
   ]
  },
  {
   "cell_type": "code",
   "execution_count": null,
   "id": "0d024b06",
   "metadata": {},
   "outputs": [],
   "source": [
    "ee.Authenticate()"
   ]
  },
  {
   "cell_type": "code",
   "execution_count": null,
   "id": "d74a689d",
   "metadata": {},
   "outputs": [],
   "source": [
    "ee.Initialize(project='ee-corestackdev')"
   ]
  },
  {
   "cell_type": "code",
   "execution_count": null,
   "id": "36db530b",
   "metadata": {},
   "outputs": [],
   "source": [
    "gobindpur_2023_lulc = ee.Image('projects/ee-corestackdev/assets/apps/mws/jharkhand/saraikela-kharsawan/gobindpur/saraikela-kharsawan_gobindpur_2023-07-01_2024-06-30_LULCmap_10m')"
   ]
  },
  {
   "cell_type": "code",
   "execution_count": null,
   "id": "a8d0f42d",
   "metadata": {},
   "outputs": [],
   "source": [
    "gobindpur_2023_lulc = ee.Image('projects/ee-corestackdev/assets/apps/mws/jharkhand/dumka/masalia/dumka_masalia_2023-07-01_2024-06-30_LULCmap_10m')"
   ]
  },
  {
   "cell_type": "code",
   "execution_count": null,
   "id": "a254338e",
   "metadata": {},
   "outputs": [],
   "source": [
    "gobindpur_2023_lulc"
   ]
  },
  {
   "cell_type": "code",
   "execution_count": null,
   "id": "85eb3480",
   "metadata": {},
   "outputs": [],
   "source": [
    "import geemap"
   ]
  },
  {
   "cell_type": "code",
   "execution_count": null,
   "id": "89f07d37",
   "metadata": {},
   "outputs": [],
   "source": [
    "vis_params = {\n",
    "    'min': 0,\n",
    "    'max': 12,\n",
    "    'palette': ['#000000',  # 0 Black- background\n",
    "            '#ff0000',   # 1 Red- builtup\n",
    "            '#74ccf4', # 2 Light Blue- kharif water\n",
    "            '#1ca3ec', # 3 Blue- kharif and rabi water\n",
    "            '#0f5e9c', # 4 Dark Blue- kharif and rabi and zaid water\n",
    "            '#f1c232', # 5 Yellow- croplands\n",
    "            '#38761d', # 6 Dark Green- Tree/Forests\n",
    "            '#A9A9A9', # 7 Gray- barren lands\n",
    "            '#f1c232', # 8 Yellow- Single Kharif Cropping\n",
    "            '#f59d22', # 9 Mustard- Single Non-Kharif Cropping\n",
    "            '#e68600', # 10 Orange- Double Cropping\n",
    "            '#b3561d', # 11 Brown- Triple Cropping\n",
    "            '#c39797' # 12 Mauve- Shrubs_Scrubs\n",
    "            ]\n",
    "    }"
   ]
  },
  {
   "cell_type": "code",
   "execution_count": null,
   "id": "2960a2af",
   "metadata": {},
   "outputs": [],
   "source": [
    "m = geemap.Map()\n",
    "m.add_layer(gobindpur_2023_lulc,vis_params)\n",
    "m"
   ]
  },
  {
   "cell_type": "code",
   "execution_count": null,
   "id": "7b998805",
   "metadata": {},
   "outputs": [],
   "source": [
    "m"
   ]
  },
  {
   "cell_type": "code",
   "execution_count": null,
   "id": "326c91fc",
   "metadata": {},
   "outputs": [],
   "source": [
    "import PIL"
   ]
  },
  {
   "cell_type": "code",
   "execution_count": null,
   "id": "09dd1f0b",
   "metadata": {},
   "outputs": [],
   "source": [
    "size = (128,128)"
   ]
  },
  {
   "cell_type": "code",
   "execution_count": null,
   "id": "45775480",
   "metadata": {},
   "outputs": [],
   "source": [
    "image = Image.fromarray(img2)\n",
    "image.thumbnail(size)\n",
    "image.save(thumbnail_path)"
   ]
  },
  {
   "cell_type": "code",
   "execution_count": null,
   "id": "0af96f1b",
   "metadata": {},
   "outputs": [],
   "source": []
  },
  {
   "cell_type": "code",
   "execution_count": null,
   "id": "8780a9f9",
   "metadata": {},
   "outputs": [],
   "source": []
  },
  {
   "cell_type": "code",
   "execution_count": null,
   "id": "ec9e6804",
   "metadata": {},
   "outputs": [],
   "source": [
    "def displayMap(roi_boundary, image):\n",
    "    centroid = roi_boundary.geometry().centroid()\n",
    "    coordinates = centroid.coordinates()\n",
    "    centerLat = coordinates.get(1).getInfo()\n",
    "    centerLon = coordinates.get(0).getInfo()\n",
    "    mapObj = folium.Map(width='100%', height='100%', location=[centerLat, centerLon], zoom_start=50)\n",
    "\n",
    "    # Sattelite image visual parameters\n",
    "    vis_params = {\n",
    "        'min': 0,\n",
    "        'max': 12,\n",
    "        'palette': ['#000000',  # 0 Black- background\n",
    "                '#ff0000',   # 1 Red- builtup\n",
    "                '#74ccf4', # 2 Light Blue- kharif water\n",
    "                '#1ca3ec', # 3 Blue- kharif and rabi water\n",
    "                '#0f5e9c', # 4 Dark Blue- kharif and rabi and zaid water\n",
    "                '#f1c232', # 5 Yellow- croplands\n",
    "                '#38761d', # 6 Dark Green- Tree/Forests\n",
    "                '#A9A9A9', # 7 Gray- barren lands\n",
    "                '#f1c232', # 8 Yellow- Single Kharif Cropping\n",
    "                '#f59d22', # 9 Mustard- Single Non-Kharif Cropping\n",
    "                '#e68600', # 10 Orange- Double Cropping\n",
    "                '#b3561d', # 11 Brown- Triple Cropping\n",
    "                '#c39797' # 12 Mauve- Shrubs_Scrubs\n",
    "                ]\n",
    "        }\n",
    "\n",
    "    map_id_dict = ee.Image(image).getMapId(vis_params)\n",
    "\n",
    "    folium.TileLayer(\n",
    "            tiles='https://server.arcgisonline.com/ArcGIS/rest/services/World_Imagery/MapServer/tile/{z}/{y}/{x}',\n",
    "            attr='Esri',\n",
    "            name='Esri Satellite',\n",
    "            overlay=True,\n",
    "            control=True\n",
    "        ).add_to(mapObj)\n",
    "\n",
    "    folium.raster_layers.TileLayer(\n",
    "                    tiles = map_id_dict['tile_fetcher'].url_format,\n",
    "                    attr = 'Google Earth Engine',\n",
    "                    name = 'Sentinel 2 image',\n",
    "                    overlay = True,\n",
    "                    control = True\n",
    "                    ).add_to(mapObj)\n",
    "\n",
    "    roi_geojson = folium.GeoJson(data=roi_boundary.getInfo(), name='ROI Boundary', style_function=lambda x: {'color':'black', 'fillColor': 'transparent', 'fillOpacity': 0})\n",
    "    # roi_geojson.add_to(mapObj)\n",
    "\n",
    "    # Add legend\n",
    "    legend_html = '''\n",
    "    <div style=\"position: fixed; bottom: 200px; right: 100px; z-index:1000; border:2px solid black; background-color:white;\n",
    "        border-radius:5px; padding:10px; font-size:14px;\">\n",
    "        <p style=\"font-weight: bold;\">Legend</p>\n",
    "        <p><span style=\"color: black; font-size: 16px;\">■</span> ROI Boundary </p>\n",
    "        <p><span style=\"color: #ff0000; font-size: 16px;\">■</span> Built-up </p>\n",
    "        <p><span style=\"color: #74ccf4; font-size: 16px;\">■</span> Water in Kharif </p>\n",
    "        <p><span style=\"color: #1ca3ec; font-size: 16px;\">■</span> Water in Kharif and Rabi </p>\n",
    "        <p><span style=\"color: #0f5e9c; font-size: 16px;\">■</span> Water in Kharif, Rabi and Zaid </p>\n",
    "        <p><span style=\"color: #38761d; font-size: 16px;\">■</span> Tree/Forests </p>\n",
    "        <p><span style=\"color: #A9A9A9; font-size: 16px;\">■</span> Barren Lands </p>\n",
    "        <p><span style=\"color: #f1c232; font-size: 16px;\">■</span> Single-Kharif Cropping </p>\n",
    "        <p><span style=\"color: #f59d22; font-size: 16px;\">■</span> Single Non-Kharif Cropping </p>\n",
    "        <p><span style=\"color: #e68600; font-size: 16px;\">■</span> Double Cropping </p>\n",
    "        <p><span style=\"color: #b3561d; font-size: 16px;\">■</span> Triple Cropping </p>\n",
    "        <p><span style=\"color: #c39797; font-size: 16px;\">■</span> Shrubs and Scrubs </p>\n",
    "    </div>\n",
    "    '''\n",
    "    # mapObj.get_root().html.add_child(folium.Element(legend_html))\n",
    "\n",
    "    mapObj.add_child(folium.LayerControl())\n",
    "    display(mapObj)"
   ]
  }
 ],
 "metadata": {
  "kernelspec": {
   "display_name": ".stac",
   "language": "python",
   "name": "python3"
  },
  "language_info": {
   "codemirror_mode": {
    "name": "ipython",
    "version": 3
   },
   "file_extension": ".py",
   "mimetype": "text/x-python",
   "name": "python",
   "nbconvert_exporter": "python",
   "pygments_lexer": "ipython3",
   "version": "3.13.3"
  }
 },
 "nbformat": 4,
 "nbformat_minor": 5
}
