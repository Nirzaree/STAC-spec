{
 "cells": [
  {
   "cell_type": "markdown",
   "id": "300eafdd",
   "metadata": {},
   "source": [
    "## Python notebook for generating the STAC catalog json and corresponding Item json for Raster & Vector layers\n",
    "\n",
    "### Tools:\n",
    "1. Pystac \n",
    "2. Rasterio\n",
    "3. Geopandas\n",
    "4. Matplotlib\n",
    "\n",
    "This notebook returns Catalog json for Raster and Vector layers."
   ]
  },
  {
   "cell_type": "markdown",
   "id": "c0d127ac",
   "metadata": {},
   "source": [
    "### 1. Importing the required modules"
   ]
  },
  {
   "cell_type": "code",
   "execution_count": 1,
   "id": "1534664c",
   "metadata": {},
   "outputs": [
    {
     "name": "stderr",
     "output_type": "stream",
     "text": [
      "/home/vishnu/.local/lib/python3.10/site-packages/matplotlib/projections/__init__.py:63: UserWarning: Unable to import Axes3D. This may be due to multiple versions of Matplotlib being installed (e.g. as a system package and as a pip package). As a result, the 3D projection is not available.\n",
      "  warnings.warn(\"Unable to import Axes3D. This may be due to multiple versions of \"\n"
     ]
    }
   ],
   "source": [
    "import os\n",
    "import json\n",
    "import xml.etree.ElementTree as ET\n",
    "from datetime import datetime\n",
    "\n",
    "import rasterio\n",
    "import geopandas as gpd\n",
    "import matplotlib.pyplot as plt\n",
    "import pystac\n",
    "import sys\n",
    "import constants\n",
    "from shapely.geometry import mapping, box\n",
    "\n",
    "\n",
    "\n"
   ]
  },
  {
   "cell_type": "markdown",
   "id": "697d2a0d",
   "metadata": {},
   "source": [
    "### 2. Defining the variables used in the notebook"
   ]
  },
  {
   "cell_type": "code",
   "execution_count": 2,
   "id": "17611223",
   "metadata": {},
   "outputs": [],
   "source": [
    "\n",
    "base_dir=\"data/\"\n",
    "qml_path=\"data/style_file.qml\"\n",
    "vector_qml_file =\"data/swb_style.qml\"\n",
    "\n",
    "raster_filename=\"saraikela-kharsawan_gobindpur_2023-07-01_2024-06-30_LULCmap_10m.tif\"\n",
    "vector_filename=\"swb2_saraikela-kharsawan_gobindpur.geojson\"\n",
    "\n",
    "corestack_dir = os.path.join(base_dir, \"CorestackCatalogs\")\n",
    "gobindpur_dir = os.path.join(corestack_dir, \"gobindpur\")\n",
    "raster_dir = os.path.join(gobindpur_dir, \"raster\")\n",
    "vector_dir = os.path.join(gobindpur_dir, \"vector\")\n",
    "\n",
    "os.makedirs(raster_dir, exist_ok=True)\n",
    "os.makedirs(vector_dir, exist_ok=True)\n",
    "\n",
    "\n",
    "raster_path = os.path.join(base_dir, raster_filename)\n",
    "vector_path = os.path.join(base_dir, vector_filename)\n",
    "\n",
    "raster_thumbnail = os.path.join(raster_dir, \"raster_thumbnail.png\")\n",
    "vector_thumbnail = os.path.join(vector_dir, \"vector_thumbnail.png\")\n",
    "\n",
    "raster_style_file = os.path.join(base_dir, \"style_file.qml\")\n",
    "vector_style_file = os.path.join(base_dir, \"swb_style.qml\")\n"
   ]
  },
  {
   "cell_type": "markdown",
   "id": "20abaee6",
   "metadata": {},
   "source": [
    "### 3. For Raster layers the data range fecthed from filename"
   ]
  },
  {
   "cell_type": "code",
   "execution_count": 3,
   "id": "46c1ab06",
   "metadata": {},
   "outputs": [],
   "source": [
    "def extract_raster_dates_from_filename(filename):\n",
    "    try:\n",
    "        print(filename)\n",
    "        parts = filename.split('_')\n",
    "        start_date = datetime.strptime(parts[2], \"%Y-%m-%d\")\n",
    "        end_date = datetime.strptime(parts[3], \"%Y-%m-%d\")\n",
    "        print(start_date)\n",
    "        print(end_date)\n",
    "    except Exception as e:\n",
    "        raise ValueError(f\"Failed to extract raster dates from filename '{filename}': {e}\")\n",
    "        \n",
    "    return start_date, end_date    "
   ]
  },
  {
   "cell_type": "code",
   "execution_count": 4,
   "id": "e14e0c77",
   "metadata": {},
   "outputs": [
    {
     "name": "stdout",
     "output_type": "stream",
     "text": [
      "saraikela-kharsawan_gobindpur_2023-07-01_2024-06-30_LULCmap_10m.tif\n",
      "2023-07-01 00:00:00\n",
      "2024-06-30 00:00:00\n"
     ]
    },
    {
     "data": {
      "text/plain": [
       "(datetime.datetime(2023, 7, 1, 0, 0), datetime.datetime(2024, 6, 30, 0, 0))"
      ]
     },
     "execution_count": 4,
     "metadata": {},
     "output_type": "execute_result"
    }
   ],
   "source": [
    "extract_raster_dates_from_filename(filename=raster_filename)"
   ]
  },
  {
   "cell_type": "markdown",
   "id": "a993f969",
   "metadata": {},
   "source": [
    "### 4. Parsing the QML file for Raster Layers"
   ]
  },
  {
   "cell_type": "code",
   "execution_count": 5,
   "id": "2f14d874",
   "metadata": {},
   "outputs": [],
   "source": [
    "\n",
    "\n",
    "def parse_qml_classes(qml_path):\n",
    "    tree = ET.parse(qml_path)\n",
    "    root = tree.getroot()\n",
    "    classes = []\n",
    "\n",
    "    for entry in root.findall(\".//paletteEntry\"):\n",
    "        class_info = {}\n",
    "        for attr_key, attr_value in entry.attrib.items():\n",
    "            if attr_key == \"value\":\n",
    "                try:\n",
    "                    class_info[attr_key] = int(attr_value)\n",
    "                except ValueError:\n",
    "                    class_info[attr_key] = attr_value\n",
    "            else:\n",
    "                class_info[attr_key] = attr_value\n",
    "        classes.append(class_info)\n",
    "    return classes"
   ]
  },
  {
   "cell_type": "markdown",
   "id": "5e89d9ca",
   "metadata": {},
   "source": [
    "### 5. Generating the thumbnails from the files "
   ]
  },
  {
   "cell_type": "code",
   "execution_count": 6,
   "id": "fe3b8600",
   "metadata": {},
   "outputs": [],
   "source": [
    "def generate_raster_thumbnail(tif_path, out_path):\n",
    "    with rasterio.open(tif_path) as src:\n",
    "        arr = src.read(1)\n",
    "    plt.figure(figsize=(3, 3))\n",
    "    plt.imshow(arr, cmap=\"tab20\")\n",
    "    plt.axis('off')\n",
    "    plt.savefig(out_path, bbox_inches='tight', pad_inches=0)\n",
    "    plt.close()\n",
    "\n",
    "def generate_vector_thumbnail(vector_path, out_path):\n",
    "    gdf = gpd.read_file(vector_path)\n",
    "    if gdf.crs is None or gdf.crs.to_epsg() != 4326:\n",
    "        gdf = gdf.to_crs(epsg=4326)\n",
    "    fig, ax = plt.subplots(figsize=(3, 3))\n",
    "    fig.patch.set_facecolor(\"white\")\n",
    "    ax.set_facecolor(\"white\")\n",
    "    gdf.plot(ax=ax, color=\"lightblue\", edgecolor=\"blue\", linewidth=0.5)\n",
    "    ax.axis('off')\n",
    "    plt.savefig(out_path, dpi=150, bbox_inches='tight', pad_inches=0, facecolor=fig.get_facecolor())\n",
    "    plt.close()\n"
   ]
  },
  {
   "cell_type": "markdown",
   "id": "2aebdfba",
   "metadata": {},
   "source": [
    "### 6. Creating the Raster items and adding the assets"
   ]
  },
  {
   "cell_type": "code",
   "execution_count": 7,
   "id": "001b3d07",
   "metadata": {},
   "outputs": [],
   "source": [
    "def create_raster_item(filename):\n",
    "    try:\n",
    "        start_date, end_date = extract_raster_dates_from_filename(filename=raster_filename)\n",
    "    except ValueError as e:\n",
    "        raise RuntimeError(f\"Raster item creation failed\")\n",
    "    \n",
    "    with rasterio.open(raster_path) as src:\n",
    "        bounds = src.bounds\n",
    "        geom = mapping(box(*bounds))\n",
    "        bbox = [bounds.left, bounds.bottom, bounds.right, bounds.top]\n",
    "\n",
    "    generate_raster_thumbnail(raster_path, raster_thumbnail)\n",
    "    style_info = parse_qml_classes(raster_style_file)\n",
    "\n",
    "    print(style_info)\n",
    "   \n",
    "    style_json_path = os.path.join(raster_dir, \"legend.json\")\n",
    "    with open(style_json_path, \"w\") as f:\n",
    "        json.dump(style_info, f, indent=2)\n",
    "\n",
    "    \n",
    "\n",
    "    \n",
    "\n",
    "    item = pystac.Item(\n",
    "        id=constants.raster_lulc_id,\n",
    "        geometry=geom,\n",
    "        bbox=bbox,\n",
    "        datetime=start_date,\n",
    "        start_datetime= start_date,\n",
    "        end_datetime= end_date,\n",
    "        properties={\n",
    "            \"title\" :constants.raster_lulc_title,\n",
    "            \"description\":constants.raster_lulc_description,\n",
    "            \"lulc:classes\": style_info,\n",
    "            \n",
    "        }\n",
    "    )\n",
    "    print(item)\n",
    "    \n",
    "\n",
    "    item.add_asset(\"data\", pystac.Asset(\n",
    "        href=f\"{constants.data_url}/{raster_filename}\",\n",
    "        media_type=pystac.MediaType.GEOTIFF,\n",
    "        roles=[\"data\"],\n",
    "        title=\"Raster Layer\"\n",
    "    ))\n",
    "    item.add_asset(\"thumbnail\", pystac.Asset(\n",
    "        href=f\"{constants.base_url}/raster/thumbnail.png\",\n",
    "        media_type=pystac.MediaType.PNG,\n",
    "        roles=[\"thumbnail\"],\n",
    "        title=\"Raster Thumbnail\"\n",
    "    ))\n",
    "    item.add_asset(\"legend\", pystac.Asset(\n",
    "        href=f\"{constants.base_url}/raster/legend.json\",\n",
    "        media_type=pystac.MediaType.JSON,\n",
    "        roles=[\"metadata\"],\n",
    "        title=\"Legend JSON\"\n",
    "    ))\n",
    "    item.add_asset(\"style\", pystac.Asset(\n",
    "        href=f\"{constants.data_url}/../{qml_path}\",\n",
    "        media_type=pystac.MediaType.XML,\n",
    "        roles=[\"metadata\"],\n",
    "        title=\"Raster style\"\n",
    "    ))\n",
    "\n",
    "    item.set_self_href(os.path.join(raster_dir, \"item.json\"))\n",
    "    item.save_object()\n",
    "    return item\n"
   ]
  },
  {
   "cell_type": "markdown",
   "id": "f002aab8",
   "metadata": {},
   "source": [
    "### 7.Creating the Vector items and adding the assets"
   ]
  },
  {
   "cell_type": "code",
   "execution_count": 8,
   "id": "10fa2634",
   "metadata": {},
   "outputs": [],
   "source": [
    "def create_vector_item(vector_filename):\n",
    "    start_date = constants.DEFAULT_START_DATE\n",
    "    end_date = constants.DEFAULT_END_DATE\n",
    "\n",
    "    gdf = gpd.read_file(vector_path)\n",
    "    geom = mapping(gdf.union_all())\n",
    "    bounds = gdf.total_bounds\n",
    "    bbox = [float(b) for b in bounds]\n",
    "\n",
    "    generate_vector_thumbnail(vector_path, vector_thumbnail)\n",
    "    \n",
    "    \n",
    "    \n",
    "\n",
    "    vector_metadata = {\n",
    "        \"number_of_records\": gdf.shape[0], \n",
    "        \"column_types\":{col: str(dtype) for col, dtype in gdf.dtypes.items()}\n",
    "    }\n",
    "    \n",
    "    vector_metadata_final = json.dumps(vector_metadata, indent=4)\n",
    "\n",
    "\n",
    "\n",
    "\n",
    "    item = pystac.Item(\n",
    "        id=constants.swb_vector_id,\n",
    "        geometry=geom,\n",
    "        bbox=bbox,\n",
    "        datetime=start_date,\n",
    "        start_datetime= start_date,\n",
    "        end_datetime= end_date,\n",
    "        properties={\n",
    "            \"title\": constants.swb_vector_title,\n",
    "            \"description\": constants.swb_vector_description,\n",
    "            \"vector_metadata\": vector_metadata_final,\n",
    "        }\n",
    "    )\n",
    "\n",
    "    print(vector_metadata_final)\n",
    "\n",
    "    item.add_asset(\"data\", pystac.Asset(\n",
    "        href=f\"{constants.data_url}/{vector_filename}\",\n",
    "        media_type=pystac.MediaType.GEOJSON,\n",
    "        roles=[\"data\"],\n",
    "        title=\"Vector Layer\"\n",
    "    ))\n",
    "    item.add_asset(\"thumbnail\", pystac.Asset(\n",
    "        href=f\"{constants.base_url}/vector/thumbnail.png\",\n",
    "        media_type=pystac.MediaType.PNG,\n",
    "        roles=[\"thumbnail\"],\n",
    "        title=\"Vector Thumbnail\"\n",
    "    ))\n",
    "    item.add_asset(\"style\", pystac.Asset(\n",
    "        href=f\"{constants.data_url}/../{vector_style_file}\",\n",
    "        media_type=pystac.MediaType.XML,\n",
    "        roles=[\"style\"],\n",
    "        title=\"Vector style\"\n",
    "    ))\n",
    "    \n",
    "    item.set_self_href(os.path.join(vector_dir, \"item.json\"))\n",
    "    item.save_object()\n",
    "    return item\n"
   ]
  },
  {
   "cell_type": "code",
   "execution_count": 9,
   "id": "d6ea122a",
   "metadata": {},
   "outputs": [
    {
     "name": "stdout",
     "output_type": "stream",
     "text": [
      "{\n",
      "    \"number_of_records\": 2306,\n",
      "    \"column_types\": {\n",
      "        \"id\": \"object\",\n",
      "        \"MWS_UID\": \"object\",\n",
      "        \"UID\": \"object\",\n",
      "        \"any\": \"int32\",\n",
      "        \"area_17-18\": \"float64\",\n",
      "        \"area_18-19\": \"float64\",\n",
      "        \"area_19-20\": \"float64\",\n",
      "        \"area_20-21\": \"float64\",\n",
      "        \"area_21-22\": \"float64\",\n",
      "        \"area_22-23\": \"float64\",\n",
      "        \"area_23-24\": \"float64\",\n",
      "        \"area_ored\": \"float64\",\n",
      "        \"category_sq_m\": \"object\",\n",
      "        \"k_17-18\": \"float64\",\n",
      "        \"k_18-19\": \"float64\",\n",
      "        \"k_19-20\": \"float64\",\n",
      "        \"k_20-21\": \"float64\",\n",
      "        \"k_21-22\": \"float64\",\n",
      "        \"k_22-23\": \"float64\",\n",
      "        \"k_23-24\": \"float64\",\n",
      "        \"kr_17-18\": \"float64\",\n",
      "        \"kr_18-19\": \"float64\",\n",
      "        \"kr_19-20\": \"float64\",\n",
      "        \"kr_20-21\": \"float64\",\n",
      "        \"kr_21-22\": \"float64\",\n",
      "        \"kr_22-23\": \"float64\",\n",
      "        \"kr_23-24\": \"float64\",\n",
      "        \"krz_17-18\": \"float64\",\n",
      "        \"krz_18-19\": \"float64\",\n",
      "        \"krz_19-20\": \"float64\",\n",
      "        \"krz_20-21\": \"float64\",\n",
      "        \"krz_21-22\": \"float64\",\n",
      "        \"krz_22-23\": \"float64\",\n",
      "        \"krz_23-24\": \"float64\",\n",
      "        \"water\": \"int32\",\n",
      "        \"geometry\": \"geometry\"\n",
      "    }\n",
      "}\n",
      "<Item id=SWB vector>\n"
     ]
    }
   ],
   "source": [
    "vector_item=create_vector_item(vector_filename)\n",
    "print(vector_item)\n"
   ]
  },
  {
   "cell_type": "markdown",
   "id": "964c4315",
   "metadata": {},
   "source": [
    "df.shape"
   ]
  },
  {
   "cell_type": "markdown",
   "id": "6e5c68ed",
   "metadata": {},
   "source": [
    "### 8. Using the raster and vector items created and generating the Catalog "
   ]
  },
  {
   "cell_type": "code",
   "execution_count": 10,
   "id": "c41550e9",
   "metadata": {},
   "outputs": [
    {
     "name": "stdout",
     "output_type": "stream",
     "text": [
      "saraikela-kharsawan_gobindpur_2023-07-01_2024-06-30_LULCmap_10m.tif\n",
      "2023-07-01 00:00:00\n",
      "2024-06-30 00:00:00\n",
      "[{'value': 0, 'label': 'clear', 'alpha': '0', 'color': '#000000'}, {'value': 1, 'label': 'built up', 'alpha': '255', 'color': '#ff0000'}, {'value': 2, 'label': 'kharif water', 'alpha': '255', 'color': '#74ccf4'}, {'value': 3, 'label': 'kharif and rabi water', 'alpha': '255', 'color': '#1ca3ec'}, {'value': 4, 'label': 'kharif and rabi and zaid water', 'alpha': '255', 'color': '#0f5e9c'}, {'value': 5, 'label': 'croplands', 'alpha': '255', 'color': '#f1c232'}, {'value': 6, 'label': 'Tree/Forests', 'alpha': '255', 'color': '#38761d'}, {'value': 7, 'label': 'barren lands', 'alpha': '255', 'color': '#a9a9a9'}, {'value': 8, 'label': 'Single Kharif Cropping', 'alpha': '255', 'color': '#bad93e'}, {'value': 9, 'label': 'Single Non-Kharif Cropping', 'alpha': '255', 'color': '#f59d22'}, {'value': 10, 'label': 'Double Cropping', 'alpha': '255', 'color': '#ff9371'}, {'value': 11, 'label': 'Triple Cropping', 'alpha': '255', 'color': '#b3561d'}, {'value': 12, 'label': 'Shrubs_Scrubs', 'alpha': '255', 'color': '#a9a9a9'}]\n",
      "<Item id=lulc_raster>\n",
      "{\n",
      "    \"number_of_records\": 2306,\n",
      "    \"column_types\": {\n",
      "        \"id\": \"object\",\n",
      "        \"MWS_UID\": \"object\",\n",
      "        \"UID\": \"object\",\n",
      "        \"any\": \"int32\",\n",
      "        \"area_17-18\": \"float64\",\n",
      "        \"area_18-19\": \"float64\",\n",
      "        \"area_19-20\": \"float64\",\n",
      "        \"area_20-21\": \"float64\",\n",
      "        \"area_21-22\": \"float64\",\n",
      "        \"area_22-23\": \"float64\",\n",
      "        \"area_23-24\": \"float64\",\n",
      "        \"area_ored\": \"float64\",\n",
      "        \"category_sq_m\": \"object\",\n",
      "        \"k_17-18\": \"float64\",\n",
      "        \"k_18-19\": \"float64\",\n",
      "        \"k_19-20\": \"float64\",\n",
      "        \"k_20-21\": \"float64\",\n",
      "        \"k_21-22\": \"float64\",\n",
      "        \"k_22-23\": \"float64\",\n",
      "        \"k_23-24\": \"float64\",\n",
      "        \"kr_17-18\": \"float64\",\n",
      "        \"kr_18-19\": \"float64\",\n",
      "        \"kr_19-20\": \"float64\",\n",
      "        \"kr_20-21\": \"float64\",\n",
      "        \"kr_21-22\": \"float64\",\n",
      "        \"kr_22-23\": \"float64\",\n",
      "        \"kr_23-24\": \"float64\",\n",
      "        \"krz_17-18\": \"float64\",\n",
      "        \"krz_18-19\": \"float64\",\n",
      "        \"krz_19-20\": \"float64\",\n",
      "        \"krz_20-21\": \"float64\",\n",
      "        \"krz_21-22\": \"float64\",\n",
      "        \"krz_22-23\": \"float64\",\n",
      "        \"krz_23-24\": \"float64\",\n",
      "        \"water\": \"int32\",\n",
      "        \"geometry\": \"geometry\"\n",
      "    }\n",
      "}\n",
      " Root STAC Catalog created at: data/CorestackCatalogs/catalog.json\n"
     ]
    }
   ],
   "source": [
    "\n",
    "catalog = pystac.Catalog(\n",
    "    id=constants.id_main,\n",
    "    title=constants.title_main,\n",
    "    description=constants.description_main\n",
    ")\n",
    "catalog.add_item(create_raster_item(filename=raster_filename))\n",
    "catalog.add_item(create_vector_item(vector_filename=vector_filename))\n",
    "catalog.set_self_href(os.path.join(gobindpur_dir, \"catalog.json\"))\n",
    "\n",
    "corestack_catalog = pystac.Catalog(\n",
    "    id=\"corestack\",\n",
    "    title=\"CorestackCatalogs\",\n",
    "    description=\"Root catalog containing all subcatalogs\"\n",
    ")\n",
    "corestack_catalog.add_child(catalog)\n",
    "corestack_catalog.set_self_href(os.path.join(corestack_dir, \"catalog.json\"))\n",
    "corestack_catalog.normalize_and_save(corestack_dir, catalog_type=pystac.CatalogType.SELF_CONTAINED)\n",
    "\n",
    "print(f\" Root STAC Catalog created at: {os.path.join(corestack_dir, 'catalog.json')}\")\n"
   ]
  }
 ],
 "metadata": {
  "kernelspec": {
   "display_name": "Python 3",
   "language": "python",
   "name": "python3"
  },
  "language_info": {
   "codemirror_mode": {
    "name": "ipython",
    "version": 3
   },
   "file_extension": ".py",
   "mimetype": "text/x-python",
   "name": "python",
   "nbconvert_exporter": "python",
   "pygments_lexer": "ipython3",
   "version": "3.10.12"
  }
 },
 "nbformat": 4,
 "nbformat_minor": 5
}
