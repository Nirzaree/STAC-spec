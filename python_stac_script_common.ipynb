{
 "cells": [
  {
   "cell_type": "code",
   "execution_count": 1,
   "id": "1534664c",
   "metadata": {},
   "outputs": [
    {
     "name": "stderr",
     "output_type": "stream",
     "text": [
      "/home/vishnu/.local/lib/python3.10/site-packages/matplotlib/projections/__init__.py:63: UserWarning: Unable to import Axes3D. This may be due to multiple versions of Matplotlib being installed (e.g. as a system package and as a pip package). As a result, the 3D projection is not available.\n",
      "  warnings.warn(\"Unable to import Axes3D. This may be due to multiple versions of \"\n"
     ]
    }
   ],
   "source": [
    "import os\n",
    "import json\n",
    "import xml.etree.ElementTree as ET\n",
    "from datetime import datetime\n",
    "\n",
    "import rasterio\n",
    "import geopandas as gpd\n",
    "import matplotlib.pyplot as plt\n",
    "import pystac\n",
    "import sys\n",
    "from shapely.geometry import mapping, box\n",
    "from constants import DEFAULT_START_DATE, DEFAULT_END_DATE,raster_lulc_id,raster_lulc_description,raster_lulc_title,swb_vector_id,swb_vector_title,swb_vector_description,id_main,title_main,description_main,base_url,data_url\n",
    "\n",
    "\n"
   ]
  },
  {
   "cell_type": "code",
   "execution_count": null,
   "id": "17611223",
   "metadata": {},
   "outputs": [],
   "source": [
    "\n",
    "base_dir=\"data/\"\n",
    "qml_path=\"data/style_file.qml\"\n",
    "vector_qml_file = \"data/swb_style.qml\"\n",
    "\n",
    "raster_filename=\"saraikela-kharsawan_gobindpur_2023-07-01_2024-06-30_LULCmap_10m.tif\"\n",
    "vector_filename=\"swb2_saraikela-kharsawan_gobindpur.geojson\"\n",
    "\n",
    "corestack_dir = os.path.join(base_dir, \"Corestack Catalogs\")\n",
    "gobindpur_dir = os.path.join(corestack_dir, \"gobindpur\")\n",
    "raster_dir = os.path.join(gobindpur_dir, \"raster\")\n",
    "vector_dir = os.path.join(gobindpur_dir, \"vector\")\n",
    "\n",
    "os.makedirs(raster_dir, exist_ok=True)\n",
    "os.makedirs(vector_dir, exist_ok=True)\n",
    "\n",
    "\n",
    "raster_filename = raster_filename\n",
    "vector_filename = vector_filename\n",
    "raster_path = os.path.join(base_dir, raster_filename)\n",
    "vector_path = os.path.join(base_dir, vector_filename)\n",
    "\n",
    "raster_thumb = os.path.join(raster_dir, \"thumbnail.png\")\n",
    "vector_thumb = os.path.join(vector_dir, \"thumbnail.png\")\n",
    "\n",
    "raster_style_file = os.path.join(base_dir, \"style_file.qml\")\n",
    "vector_style_file = os.path.join(base_dir, \"swb_style.qml\")\n"
   ]
  },
  {
   "cell_type": "code",
   "execution_count": 3,
   "id": "46c1ab06",
   "metadata": {},
   "outputs": [],
   "source": [
    "def extract_raster_dates_from_filename(filename):\n",
    "    try:\n",
    "        print(filename)\n",
    "        parts = filename.split('_')\n",
    "        start_date = datetime.strptime(parts[2], \"%Y-%m-%d\")\n",
    "        end_date = datetime.strptime(parts[3], \"%Y-%m-%d\")\n",
    "        print(start_date)\n",
    "        print(end_date)\n",
    "    except Exception as e:\n",
    "        raise ValueError(f\"Failed to extract raster dates from filename '{filename}': {e}\")\n",
    "        \n",
    "    return start_date, end_date    "
   ]
  },
  {
   "cell_type": "code",
   "execution_count": 4,
   "id": "e14e0c77",
   "metadata": {},
   "outputs": [
    {
     "name": "stdout",
     "output_type": "stream",
     "text": [
      "saraikela-kharsawan_gobindpur_2023-07-01_2024-06-30_LULCmap_10m.tif\n",
      "2023-07-01 00:00:00\n",
      "2024-06-30 00:00:00\n"
     ]
    },
    {
     "data": {
      "text/plain": [
       "(datetime.datetime(2023, 7, 1, 0, 0), datetime.datetime(2024, 6, 30, 0, 0))"
      ]
     },
     "execution_count": 4,
     "metadata": {},
     "output_type": "execute_result"
    }
   ],
   "source": [
    "extract_raster_dates_from_filename(raster_filename)"
   ]
  },
  {
   "cell_type": "code",
   "execution_count": 5,
   "id": "2f14d874",
   "metadata": {},
   "outputs": [],
   "source": [
    "\n",
    "\n",
    "def parse_qml_classes(qml_path):\n",
    "    tree = ET.parse(qml_path)\n",
    "    root = tree.getroot()\n",
    "    classes = []\n",
    "\n",
    "    for entry in root.findall(\".//paletteEntry\"):\n",
    "        class_info = {}\n",
    "        for attr_key, attr_value in entry.attrib.items():\n",
    "            if attr_key == \"value\":\n",
    "                try:\n",
    "                    class_info[attr_key] = int(attr_value)\n",
    "                except ValueError:\n",
    "                    class_info[attr_key] = attr_value\n",
    "            else:\n",
    "                class_info[attr_key] = attr_value\n",
    "        classes.append(class_info)\n",
    "    return classes"
   ]
  },
  {
   "cell_type": "code",
   "execution_count": 6,
   "id": "139cf36c",
   "metadata": {},
   "outputs": [
    {
     "name": "stdout",
     "output_type": "stream",
     "text": [
      "Extracted Style Properties:\n",
      "\n",
      "align_dash_pattern: 0\n",
      "capstyle: square\n",
      "customdash: 5;2\n",
      "customdash_map_unit_scale: 3x:0,0,0,0,0,0\n",
      "customdash_unit: MM\n",
      "dash_pattern_offset: 0\n",
      "dash_pattern_offset_map_unit_scale: 3x:0,0,0,0,0,0\n",
      "dash_pattern_offset_unit: MM\n",
      "draw_inside_polygon: 0\n",
      "joinstyle: bevel\n",
      "line_color: 225,89,137,255,rgb:0.88235294117647056,0.34901960784313724,0.53725490196078429,1\n",
      "line_style: solid\n",
      "line_width: 0.6\n",
      "line_width_unit: MM\n",
      "offset: 0\n",
      "offset_map_unit_scale: 3x:0,0,0,0,0,0\n",
      "offset_unit: MM\n",
      "ring_filter: 0\n",
      "trim_distance_end: 0\n",
      "trim_distance_end_map_unit_scale: 3x:0,0,0,0,0,0\n",
      "trim_distance_end_unit: MM\n",
      "trim_distance_start: 0\n",
      "trim_distance_start_map_unit_scale: 3x:0,0,0,0,0,0\n",
      "trim_distance_start_unit: MM\n",
      "tweak_dash_pattern_on_corners: 0\n",
      "use_custom_dash: 0\n",
      "width_map_unit_scale: 3x:0,0,0,0,0,0\n",
      "type: collection\n",
      "line_color_hex: #E15989\n"
     ]
    }
   ],
   "source": [
    "\n",
    "\n",
    "def rgba_string_to_hex(rgba_string):\n",
    "    \n",
    "    try:\n",
    "        parts = rgba_string.split(',')\n",
    "        if len(parts) >= 3:\n",
    "            r, g, b = int(parts[0]), int(parts[1]), int(parts[2])\n",
    "            return \"#{:02X}{:02X}{:02X}\".format(r, g, b)\n",
    "    except:\n",
    "        pass\n",
    "    return None\n",
    "\n",
    "def parse_simpleline_style(qml_path):\n",
    "    tree = ET.parse(qml_path)\n",
    "    root = tree.getroot()\n",
    "\n",
    "    # Find the <layer> tag with class=\"SimpleLine\"\n",
    "    simple_line_layer = None\n",
    "    for layer in root.findall(\".//layer\"):\n",
    "        if layer.attrib.get(\"class\") == \"SimpleLine\":\n",
    "            simple_line_layer = layer\n",
    "            break\n",
    "\n",
    "    if simple_line_layer is None:\n",
    "        print(\"No <layer class='SimpleLine'> found.\")\n",
    "        return {}\n",
    "\n",
    "    style_data = {}\n",
    "    for option in simple_line_layer.findall(\".//Option\"):\n",
    "        name = option.attrib.get(\"name\")\n",
    "        value = option.attrib.get(\"value\")\n",
    "        if name and value:\n",
    "            style_data[name] = value\n",
    "\n",
    "    # Convert color if available\n",
    "    if \"line_color\" in style_data:\n",
    "        style_data[\"line_color_hex\"] = rgba_string_to_hex(style_data[\"line_color\"])\n",
    "\n",
    "    return style_data\n",
    "\n",
    " \n",
    "style = parse_simpleline_style(vector_qml_file)\n",
    "\n",
    "if not style:\n",
    "    print(\"No style properties found.\")\n",
    "else:\n",
    "    print(\"Extracted Style Properties:\\n\")\n",
    "    for key, value in style.items():\n",
    "        print(f\"{key}: {value}\")\n"
   ]
  },
  {
   "cell_type": "code",
   "execution_count": 7,
   "id": "fe3b8600",
   "metadata": {},
   "outputs": [],
   "source": [
    "def generate_raster_thumbnail(tif_path, out_path):\n",
    "    with rasterio.open(tif_path) as src:\n",
    "        arr = src.read(1)\n",
    "    plt.figure(figsize=(3, 3))\n",
    "    plt.imshow(arr, cmap=\"tab20\")\n",
    "    plt.axis('off')\n",
    "    plt.savefig(out_path, bbox_inches='tight', pad_inches=0)\n",
    "    plt.close()\n",
    "\n",
    "def generate_vector_thumbnail(vector_path, out_path):\n",
    "    gdf = gpd.read_file(vector_path)\n",
    "    if gdf.crs is None or gdf.crs.to_epsg() != 4326:\n",
    "        gdf = gdf.to_crs(epsg=4326)\n",
    "    fig, ax = plt.subplots(figsize=(3, 3))\n",
    "    fig.patch.set_facecolor(\"white\")\n",
    "    ax.set_facecolor(\"white\")\n",
    "    gdf.plot(ax=ax, color=\"lightblue\", edgecolor=\"blue\", linewidth=0.5)\n",
    "    ax.axis('off')\n",
    "    plt.savefig(out_path, dpi=150, bbox_inches='tight', pad_inches=0, facecolor=fig.get_facecolor())\n",
    "    plt.close()\n"
   ]
  },
  {
   "cell_type": "code",
   "execution_count": 8,
   "id": "6fd98c2e",
   "metadata": {},
   "outputs": [],
   "source": [
    "def generate_legend_image(legend_data, output_path):\n",
    "    import matplotlib.pyplot as plt\n",
    "    import matplotlib.patches as mpatches\n",
    "\n",
    "    labels = [entry.get(\"label\", str(entry[\"value\"])) for entry in legend_data]\n",
    "    colors = [entry[\"color\"] for entry in legend_data]\n",
    "\n",
    "    fig_height = max(1, len(labels) * 0.4)\n",
    "    fig, ax = plt.subplots(figsize=(3, fig_height))\n",
    "    ax.axis(\"off\")\n",
    "\n",
    "    handles = [mpatches.Patch(color=color, label=label) for color, label in zip(colors, labels)]\n",
    "    ax.legend(handles=handles, loc=\"center left\", frameon=False)\n",
    "\n",
    "    plt.savefig(output_path, bbox_inches='tight', pad_inches=0)\n",
    "    plt.close()\n"
   ]
  },
  {
   "cell_type": "code",
   "execution_count": 9,
   "id": "001b3d07",
   "metadata": {},
   "outputs": [],
   "source": [
    "def create_raster_item():\n",
    "    try:\n",
    "        start_date, end_date = extract_raster_dates_from_filename(raster_filename)\n",
    "    except ValueError as e:\n",
    "        raise RuntimeError(f\"Raster item creation failed\")\n",
    "    \n",
    "    with rasterio.open(raster_path) as src:\n",
    "        bounds = src.bounds\n",
    "        geom = mapping(box(*bounds))\n",
    "        bbox = [bounds.left, bounds.bottom, bounds.right, bounds.top]\n",
    "\n",
    "    generate_raster_thumbnail(raster_path, raster_thumb)\n",
    "    style_info = parse_qml_classes(raster_style_file)\n",
    "\n",
    "   \n",
    "    style_json_path = os.path.join(raster_dir, \"legend.json\")\n",
    "    with open(style_json_path, \"w\") as f:\n",
    "        json.dump(style_info, f, indent=2)\n",
    "\n",
    "    \n",
    "    legend_img_path = os.path.join(raster_dir, \"legend.png\")\n",
    "    generate_legend_image(style_info, legend_img_path)\n",
    "\n",
    "    \n",
    "\n",
    "    item = pystac.Item(\n",
    "        id=raster_lulc_id,\n",
    "        geometry=geom,\n",
    "        bbox=bbox,\n",
    "        datetime=start_date,\n",
    "        start_datetime= start_date,\n",
    "        end_datetime= end_date,\n",
    "        properties={\n",
    "            \"title\":\"raster_lulc_title\",\n",
    "            \"description\": \"raster_lulc_description\",\n",
    "            \"lulc:classes\": \"style_info\",\n",
    "            \n",
    "        }\n",
    "    )\n",
    "    \n",
    "\n",
    "    item.add_asset(\"data\", pystac.Asset(\n",
    "        href=f\"{data_url}/{raster_filename}\",\n",
    "        media_type=pystac.MediaType.GEOTIFF,\n",
    "        roles=[\"data\"],\n",
    "        title=\"Raster Layer\"\n",
    "    ))\n",
    "    item.add_asset(\"thumbnail\", pystac.Asset(\n",
    "        href=f\"{base_url}/raster/thumbnail.png\",\n",
    "        media_type=pystac.MediaType.PNG,\n",
    "        roles=[\"thumbnail\"],\n",
    "        title=\"Raster Thumbnail\"\n",
    "    ))\n",
    "    item.add_asset(\"legend_image\", pystac.Asset(\n",
    "        href=f\"{base_url}/raster/legend.png\",\n",
    "        media_type=pystac.MediaType.PNG,\n",
    "        roles=[\"thumbnail\", \"metadata\"],\n",
    "        title=\"Legend Image\"\n",
    "    ))\n",
    "    item.add_asset(\"legend\", pystac.Asset(\n",
    "        href=f\"{base_url}/raster/legend.json\",\n",
    "        media_type=pystac.MediaType.JSON,\n",
    "        roles=[\"metadata\"],\n",
    "        title=\"Legend JSON\"\n",
    "    ))\n",
    "\n",
    "\n",
    "    item.set_self_href(os.path.join(raster_dir, \"item.json\"))\n",
    "    item.save_object()\n",
    "    return item\n"
   ]
  },
  {
   "cell_type": "code",
   "execution_count": 10,
   "id": "43411421",
   "metadata": {},
   "outputs": [
    {
     "name": "stdout",
     "output_type": "stream",
     "text": [
      "https://raw.githubusercontent.com/vishnus4059/STAC_common/master/data/Corestack%20Catalogs/gobindpur\n"
     ]
    }
   ],
   "source": [
    "print(base_url)"
   ]
  },
  {
   "cell_type": "code",
   "execution_count": 11,
   "id": "16c2b88c",
   "metadata": {},
   "outputs": [
    {
     "name": "stdout",
     "output_type": "stream",
     "text": [
      "saraikela-kharsawan_gobindpur_2023-07-01_2024-06-30_LULCmap_10m.tif\n",
      "2023-07-01 00:00:00\n",
      "2024-06-30 00:00:00\n"
     ]
    }
   ],
   "source": [
    "raster_item=create_raster_item()"
   ]
  },
  {
   "cell_type": "code",
   "execution_count": 12,
   "id": "10fa2634",
   "metadata": {},
   "outputs": [],
   "source": [
    "def create_vector_item():\n",
    "    start_date = DEFAULT_START_DATE\n",
    "    end_date = DEFAULT_END_DATE\n",
    "\n",
    "    gdf = gpd.read_file(vector_path)\n",
    "    geom = mapping(gdf.union_all())\n",
    "    bounds = gdf.total_bounds\n",
    "    bbox = [float(b) for b in bounds]\n",
    "\n",
    "    generate_vector_thumbnail(vector_path, vector_thumb)\n",
    "    style_info_vector = parse_simpleline_style(vector_style_file)\n",
    "    style_json_path = os.path.join(vector_dir, \"style.json\")\n",
    "    with open(style_json_path, \"w\") as f:\n",
    "        json.dump(style_info_vector, f, indent=2)\n",
    "    \n",
    "    \n",
    "\n",
    "    item = pystac.Item(\n",
    "        id=swb_vector_id,\n",
    "        geometry=geom,\n",
    "        bbox=bbox,\n",
    "        datetime=start_date,\n",
    "        start_datetime= start_date,\n",
    "        end_datetime= end_date,\n",
    "        properties={\n",
    "            \"title\": \"swb_vector_title\",\n",
    "            \"description\": \"swb_vector_description\",\n",
    "            \"style\": \"style_info_vector\",\n",
    "            \n",
    "        }\n",
    "    )\n",
    "\n",
    "\n",
    "    \n",
    "\n",
    "    item.add_asset(\"data\", pystac.Asset(\n",
    "        href=f\"{data_url}/{vector_filename}\",\n",
    "        media_type=pystac.MediaType.GEOJSON,\n",
    "        roles=[\"data\"],\n",
    "        title=\"Vector Layer\"\n",
    "    ))\n",
    "    item.add_asset(\"thumbnail\", pystac.Asset(\n",
    "        href=f\"{base_url}/vector/thumbnail.png\",\n",
    "        media_type=pystac.MediaType.PNG,\n",
    "        roles=[\"thumbnail\"],\n",
    "        title=\"Vector Thumbnail\"\n",
    "    ))\n",
    "    item.add_asset(\"style\", pystac.Asset(\n",
    "        href=f\"{base_url}/vector/swb_style_thumbnail.json\",\n",
    "        media_type=pystac.MediaType.PNG,\n",
    "        roles=[\"style\"],\n",
    "        title=\"Vector style thumbnail\"\n",
    "    ))\n",
    "    item.set_self_href(os.path.join(vector_dir, \"item.json\"))\n",
    "    item.save_object()\n",
    "    return item\n"
   ]
  },
  {
   "cell_type": "code",
   "execution_count": 14,
   "id": "abd0614c",
   "metadata": {},
   "outputs": [
    {
     "ename": "DataSourceError",
     "evalue": "data/data/swb2_saraikela-kharsawan_gobindpur.geojson: No such file or directory",
     "output_type": "error",
     "traceback": [
      "\u001b[0;31m---------------------------------------------------------------------------\u001b[0m",
      "\u001b[0;31mDataSourceError\u001b[0m                           Traceback (most recent call last)",
      "Cell \u001b[0;32mIn[14], line 1\u001b[0m\n\u001b[0;32m----> 1\u001b[0m vector_item \u001b[38;5;241m=\u001b[39m \u001b[43mcreate_vector_item\u001b[49m\u001b[43m(\u001b[49m\u001b[43m)\u001b[49m\n",
      "Cell \u001b[0;32mIn[12], line 5\u001b[0m, in \u001b[0;36mcreate_vector_item\u001b[0;34m()\u001b[0m\n\u001b[1;32m      2\u001b[0m start_date \u001b[38;5;241m=\u001b[39m DEFAULT_START_DATE\n\u001b[1;32m      3\u001b[0m end_date \u001b[38;5;241m=\u001b[39m DEFAULT_END_DATE\n\u001b[0;32m----> 5\u001b[0m gdf \u001b[38;5;241m=\u001b[39m \u001b[43mgpd\u001b[49m\u001b[38;5;241;43m.\u001b[39;49m\u001b[43mread_file\u001b[49m\u001b[43m(\u001b[49m\u001b[43mvector_path\u001b[49m\u001b[43m)\u001b[49m\n\u001b[1;32m      6\u001b[0m geom \u001b[38;5;241m=\u001b[39m mapping(gdf\u001b[38;5;241m.\u001b[39munion_all())\n\u001b[1;32m      7\u001b[0m bounds \u001b[38;5;241m=\u001b[39m gdf\u001b[38;5;241m.\u001b[39mtotal_bounds\n",
      "File \u001b[0;32m~/.local/lib/python3.10/site-packages/geopandas/io/file.py:316\u001b[0m, in \u001b[0;36m_read_file\u001b[0;34m(filename, bbox, mask, columns, rows, engine, **kwargs)\u001b[0m\n\u001b[1;32m    313\u001b[0m             filename \u001b[38;5;241m=\u001b[39m response\u001b[38;5;241m.\u001b[39mread()\n\u001b[1;32m    315\u001b[0m \u001b[38;5;28;01mif\u001b[39;00m engine \u001b[38;5;241m==\u001b[39m \u001b[38;5;124m\"\u001b[39m\u001b[38;5;124mpyogrio\u001b[39m\u001b[38;5;124m\"\u001b[39m:\n\u001b[0;32m--> 316\u001b[0m     \u001b[38;5;28;01mreturn\u001b[39;00m \u001b[43m_read_file_pyogrio\u001b[49m\u001b[43m(\u001b[49m\n\u001b[1;32m    317\u001b[0m \u001b[43m        \u001b[49m\u001b[43mfilename\u001b[49m\u001b[43m,\u001b[49m\u001b[43m \u001b[49m\u001b[43mbbox\u001b[49m\u001b[38;5;241;43m=\u001b[39;49m\u001b[43mbbox\u001b[49m\u001b[43m,\u001b[49m\u001b[43m \u001b[49m\u001b[43mmask\u001b[49m\u001b[38;5;241;43m=\u001b[39;49m\u001b[43mmask\u001b[49m\u001b[43m,\u001b[49m\u001b[43m \u001b[49m\u001b[43mcolumns\u001b[49m\u001b[38;5;241;43m=\u001b[39;49m\u001b[43mcolumns\u001b[49m\u001b[43m,\u001b[49m\u001b[43m \u001b[49m\u001b[43mrows\u001b[49m\u001b[38;5;241;43m=\u001b[39;49m\u001b[43mrows\u001b[49m\u001b[43m,\u001b[49m\u001b[43m \u001b[49m\u001b[38;5;241;43m*\u001b[39;49m\u001b[38;5;241;43m*\u001b[39;49m\u001b[43mkwargs\u001b[49m\n\u001b[1;32m    318\u001b[0m \u001b[43m    \u001b[49m\u001b[43m)\u001b[49m\n\u001b[1;32m    320\u001b[0m \u001b[38;5;28;01melif\u001b[39;00m engine \u001b[38;5;241m==\u001b[39m \u001b[38;5;124m\"\u001b[39m\u001b[38;5;124mfiona\u001b[39m\u001b[38;5;124m\"\u001b[39m:\n\u001b[1;32m    321\u001b[0m     \u001b[38;5;28;01mif\u001b[39;00m pd\u001b[38;5;241m.\u001b[39mapi\u001b[38;5;241m.\u001b[39mtypes\u001b[38;5;241m.\u001b[39mis_file_like(filename):\n",
      "File \u001b[0;32m~/.local/lib/python3.10/site-packages/geopandas/io/file.py:576\u001b[0m, in \u001b[0;36m_read_file_pyogrio\u001b[0;34m(path_or_bytes, bbox, mask, rows, **kwargs)\u001b[0m\n\u001b[1;32m    567\u001b[0m     warnings\u001b[38;5;241m.\u001b[39mwarn(\n\u001b[1;32m    568\u001b[0m         \u001b[38;5;124m\"\u001b[39m\u001b[38;5;124mThe \u001b[39m\u001b[38;5;124m'\u001b[39m\u001b[38;5;124minclude_fields\u001b[39m\u001b[38;5;124m'\u001b[39m\u001b[38;5;124m and \u001b[39m\u001b[38;5;124m'\u001b[39m\u001b[38;5;124mignore_fields\u001b[39m\u001b[38;5;124m'\u001b[39m\u001b[38;5;124m keywords are deprecated, and \u001b[39m\u001b[38;5;124m\"\u001b[39m\n\u001b[1;32m    569\u001b[0m         \u001b[38;5;124m\"\u001b[39m\u001b[38;5;124mwill be removed in a future release. You can use the \u001b[39m\u001b[38;5;124m'\u001b[39m\u001b[38;5;124mcolumns\u001b[39m\u001b[38;5;124m'\u001b[39m\u001b[38;5;124m keyword \u001b[39m\u001b[38;5;124m\"\u001b[39m\n\u001b[0;32m   (...)\u001b[0m\n\u001b[1;32m    572\u001b[0m         stacklevel\u001b[38;5;241m=\u001b[39m\u001b[38;5;241m3\u001b[39m,\n\u001b[1;32m    573\u001b[0m     )\n\u001b[1;32m    574\u001b[0m     kwargs[\u001b[38;5;124m\"\u001b[39m\u001b[38;5;124mcolumns\u001b[39m\u001b[38;5;124m\"\u001b[39m] \u001b[38;5;241m=\u001b[39m kwargs\u001b[38;5;241m.\u001b[39mpop(\u001b[38;5;124m\"\u001b[39m\u001b[38;5;124minclude_fields\u001b[39m\u001b[38;5;124m\"\u001b[39m)\n\u001b[0;32m--> 576\u001b[0m \u001b[38;5;28;01mreturn\u001b[39;00m \u001b[43mpyogrio\u001b[49m\u001b[38;5;241;43m.\u001b[39;49m\u001b[43mread_dataframe\u001b[49m\u001b[43m(\u001b[49m\u001b[43mpath_or_bytes\u001b[49m\u001b[43m,\u001b[49m\u001b[43m \u001b[49m\u001b[43mbbox\u001b[49m\u001b[38;5;241;43m=\u001b[39;49m\u001b[43mbbox\u001b[49m\u001b[43m,\u001b[49m\u001b[43m \u001b[49m\u001b[38;5;241;43m*\u001b[39;49m\u001b[38;5;241;43m*\u001b[39;49m\u001b[43mkwargs\u001b[49m\u001b[43m)\u001b[49m\n",
      "File \u001b[0;32m~/.local/lib/python3.10/site-packages/pyogrio/geopandas.py:275\u001b[0m, in \u001b[0;36mread_dataframe\u001b[0;34m(path_or_buffer, layer, encoding, columns, read_geometry, force_2d, skip_features, max_features, where, bbox, mask, fids, sql, sql_dialect, fid_as_index, use_arrow, on_invalid, arrow_to_pandas_kwargs, **kwargs)\u001b[0m\n\u001b[1;32m    270\u001b[0m \u001b[38;5;28;01mif\u001b[39;00m \u001b[38;5;129;01mnot\u001b[39;00m use_arrow:\n\u001b[1;32m    271\u001b[0m     \u001b[38;5;66;03m# For arrow, datetimes are read as is.\u001b[39;00m\n\u001b[1;32m    272\u001b[0m     \u001b[38;5;66;03m# For numpy IO, datetimes are read as string values to preserve timezone info\u001b[39;00m\n\u001b[1;32m    273\u001b[0m     \u001b[38;5;66;03m# as numpy does not directly support timezones.\u001b[39;00m\n\u001b[1;32m    274\u001b[0m     kwargs[\u001b[38;5;124m\"\u001b[39m\u001b[38;5;124mdatetime_as_string\u001b[39m\u001b[38;5;124m\"\u001b[39m] \u001b[38;5;241m=\u001b[39m \u001b[38;5;28;01mTrue\u001b[39;00m\n\u001b[0;32m--> 275\u001b[0m result \u001b[38;5;241m=\u001b[39m \u001b[43mread_func\u001b[49m\u001b[43m(\u001b[49m\n\u001b[1;32m    276\u001b[0m \u001b[43m    \u001b[49m\u001b[43mpath_or_buffer\u001b[49m\u001b[43m,\u001b[49m\n\u001b[1;32m    277\u001b[0m \u001b[43m    \u001b[49m\u001b[43mlayer\u001b[49m\u001b[38;5;241;43m=\u001b[39;49m\u001b[43mlayer\u001b[49m\u001b[43m,\u001b[49m\n\u001b[1;32m    278\u001b[0m \u001b[43m    \u001b[49m\u001b[43mencoding\u001b[49m\u001b[38;5;241;43m=\u001b[39;49m\u001b[43mencoding\u001b[49m\u001b[43m,\u001b[49m\n\u001b[1;32m    279\u001b[0m \u001b[43m    \u001b[49m\u001b[43mcolumns\u001b[49m\u001b[38;5;241;43m=\u001b[39;49m\u001b[43mcolumns\u001b[49m\u001b[43m,\u001b[49m\n\u001b[1;32m    280\u001b[0m \u001b[43m    \u001b[49m\u001b[43mread_geometry\u001b[49m\u001b[38;5;241;43m=\u001b[39;49m\u001b[43mread_geometry\u001b[49m\u001b[43m,\u001b[49m\n\u001b[1;32m    281\u001b[0m \u001b[43m    \u001b[49m\u001b[43mforce_2d\u001b[49m\u001b[38;5;241;43m=\u001b[39;49m\u001b[43mgdal_force_2d\u001b[49m\u001b[43m,\u001b[49m\n\u001b[1;32m    282\u001b[0m \u001b[43m    \u001b[49m\u001b[43mskip_features\u001b[49m\u001b[38;5;241;43m=\u001b[39;49m\u001b[43mskip_features\u001b[49m\u001b[43m,\u001b[49m\n\u001b[1;32m    283\u001b[0m \u001b[43m    \u001b[49m\u001b[43mmax_features\u001b[49m\u001b[38;5;241;43m=\u001b[39;49m\u001b[43mmax_features\u001b[49m\u001b[43m,\u001b[49m\n\u001b[1;32m    284\u001b[0m \u001b[43m    \u001b[49m\u001b[43mwhere\u001b[49m\u001b[38;5;241;43m=\u001b[39;49m\u001b[43mwhere\u001b[49m\u001b[43m,\u001b[49m\n\u001b[1;32m    285\u001b[0m \u001b[43m    \u001b[49m\u001b[43mbbox\u001b[49m\u001b[38;5;241;43m=\u001b[39;49m\u001b[43mbbox\u001b[49m\u001b[43m,\u001b[49m\n\u001b[1;32m    286\u001b[0m \u001b[43m    \u001b[49m\u001b[43mmask\u001b[49m\u001b[38;5;241;43m=\u001b[39;49m\u001b[43mmask\u001b[49m\u001b[43m,\u001b[49m\n\u001b[1;32m    287\u001b[0m \u001b[43m    \u001b[49m\u001b[43mfids\u001b[49m\u001b[38;5;241;43m=\u001b[39;49m\u001b[43mfids\u001b[49m\u001b[43m,\u001b[49m\n\u001b[1;32m    288\u001b[0m \u001b[43m    \u001b[49m\u001b[43msql\u001b[49m\u001b[38;5;241;43m=\u001b[39;49m\u001b[43msql\u001b[49m\u001b[43m,\u001b[49m\n\u001b[1;32m    289\u001b[0m \u001b[43m    \u001b[49m\u001b[43msql_dialect\u001b[49m\u001b[38;5;241;43m=\u001b[39;49m\u001b[43msql_dialect\u001b[49m\u001b[43m,\u001b[49m\n\u001b[1;32m    290\u001b[0m \u001b[43m    \u001b[49m\u001b[43mreturn_fids\u001b[49m\u001b[38;5;241;43m=\u001b[39;49m\u001b[43mfid_as_index\u001b[49m\u001b[43m,\u001b[49m\n\u001b[1;32m    291\u001b[0m \u001b[43m    \u001b[49m\u001b[38;5;241;43m*\u001b[39;49m\u001b[38;5;241;43m*\u001b[39;49m\u001b[43mkwargs\u001b[49m\u001b[43m,\u001b[49m\n\u001b[1;32m    292\u001b[0m \u001b[43m\u001b[49m\u001b[43m)\u001b[49m\n\u001b[1;32m    294\u001b[0m \u001b[38;5;28;01mif\u001b[39;00m use_arrow:\n\u001b[1;32m    295\u001b[0m     \u001b[38;5;28;01mimport\u001b[39;00m\u001b[38;5;250m \u001b[39m\u001b[38;5;21;01mpyarrow\u001b[39;00m\u001b[38;5;250m \u001b[39m\u001b[38;5;28;01mas\u001b[39;00m\u001b[38;5;250m \u001b[39m\u001b[38;5;21;01mpa\u001b[39;00m\n",
      "File \u001b[0;32m~/.local/lib/python3.10/site-packages/pyogrio/raw.py:198\u001b[0m, in \u001b[0;36mread\u001b[0;34m(path_or_buffer, layer, encoding, columns, read_geometry, force_2d, skip_features, max_features, where, bbox, mask, fids, sql, sql_dialect, return_fids, datetime_as_string, **kwargs)\u001b[0m\n\u001b[1;32m     59\u001b[0m \u001b[38;5;250m\u001b[39m\u001b[38;5;124;03m\"\"\"Read OGR data source into numpy arrays.\u001b[39;00m\n\u001b[1;32m     60\u001b[0m \n\u001b[1;32m     61\u001b[0m \u001b[38;5;124;03mIMPORTANT: non-linear geometry types (e.g., MultiSurface) are converted\u001b[39;00m\n\u001b[0;32m   (...)\u001b[0m\n\u001b[1;32m    194\u001b[0m \n\u001b[1;32m    195\u001b[0m \u001b[38;5;124;03m\"\"\"\u001b[39;00m\n\u001b[1;32m    196\u001b[0m dataset_kwargs \u001b[38;5;241m=\u001b[39m _preprocess_options_key_value(kwargs) \u001b[38;5;28;01mif\u001b[39;00m kwargs \u001b[38;5;28;01melse\u001b[39;00m {}\n\u001b[0;32m--> 198\u001b[0m \u001b[38;5;28;01mreturn\u001b[39;00m \u001b[43mogr_read\u001b[49m\u001b[43m(\u001b[49m\n\u001b[1;32m    199\u001b[0m \u001b[43m    \u001b[49m\u001b[43mget_vsi_path_or_buffer\u001b[49m\u001b[43m(\u001b[49m\u001b[43mpath_or_buffer\u001b[49m\u001b[43m)\u001b[49m\u001b[43m,\u001b[49m\n\u001b[1;32m    200\u001b[0m \u001b[43m    \u001b[49m\u001b[43mlayer\u001b[49m\u001b[38;5;241;43m=\u001b[39;49m\u001b[43mlayer\u001b[49m\u001b[43m,\u001b[49m\n\u001b[1;32m    201\u001b[0m \u001b[43m    \u001b[49m\u001b[43mencoding\u001b[49m\u001b[38;5;241;43m=\u001b[39;49m\u001b[43mencoding\u001b[49m\u001b[43m,\u001b[49m\n\u001b[1;32m    202\u001b[0m \u001b[43m    \u001b[49m\u001b[43mcolumns\u001b[49m\u001b[38;5;241;43m=\u001b[39;49m\u001b[43mcolumns\u001b[49m\u001b[43m,\u001b[49m\n\u001b[1;32m    203\u001b[0m \u001b[43m    \u001b[49m\u001b[43mread_geometry\u001b[49m\u001b[38;5;241;43m=\u001b[39;49m\u001b[43mread_geometry\u001b[49m\u001b[43m,\u001b[49m\n\u001b[1;32m    204\u001b[0m \u001b[43m    \u001b[49m\u001b[43mforce_2d\u001b[49m\u001b[38;5;241;43m=\u001b[39;49m\u001b[43mforce_2d\u001b[49m\u001b[43m,\u001b[49m\n\u001b[1;32m    205\u001b[0m \u001b[43m    \u001b[49m\u001b[43mskip_features\u001b[49m\u001b[38;5;241;43m=\u001b[39;49m\u001b[43mskip_features\u001b[49m\u001b[43m,\u001b[49m\n\u001b[1;32m    206\u001b[0m \u001b[43m    \u001b[49m\u001b[43mmax_features\u001b[49m\u001b[38;5;241;43m=\u001b[39;49m\u001b[43mmax_features\u001b[49m\u001b[43m \u001b[49m\u001b[38;5;129;43;01mor\u001b[39;49;00m\u001b[43m \u001b[49m\u001b[38;5;241;43m0\u001b[39;49m\u001b[43m,\u001b[49m\n\u001b[1;32m    207\u001b[0m \u001b[43m    \u001b[49m\u001b[43mwhere\u001b[49m\u001b[38;5;241;43m=\u001b[39;49m\u001b[43mwhere\u001b[49m\u001b[43m,\u001b[49m\n\u001b[1;32m    208\u001b[0m \u001b[43m    \u001b[49m\u001b[43mbbox\u001b[49m\u001b[38;5;241;43m=\u001b[39;49m\u001b[43mbbox\u001b[49m\u001b[43m,\u001b[49m\n\u001b[1;32m    209\u001b[0m \u001b[43m    \u001b[49m\u001b[43mmask\u001b[49m\u001b[38;5;241;43m=\u001b[39;49m\u001b[43m_mask_to_wkb\u001b[49m\u001b[43m(\u001b[49m\u001b[43mmask\u001b[49m\u001b[43m)\u001b[49m\u001b[43m,\u001b[49m\n\u001b[1;32m    210\u001b[0m \u001b[43m    \u001b[49m\u001b[43mfids\u001b[49m\u001b[38;5;241;43m=\u001b[39;49m\u001b[43mfids\u001b[49m\u001b[43m,\u001b[49m\n\u001b[1;32m    211\u001b[0m \u001b[43m    \u001b[49m\u001b[43msql\u001b[49m\u001b[38;5;241;43m=\u001b[39;49m\u001b[43msql\u001b[49m\u001b[43m,\u001b[49m\n\u001b[1;32m    212\u001b[0m \u001b[43m    \u001b[49m\u001b[43msql_dialect\u001b[49m\u001b[38;5;241;43m=\u001b[39;49m\u001b[43msql_dialect\u001b[49m\u001b[43m,\u001b[49m\n\u001b[1;32m    213\u001b[0m \u001b[43m    \u001b[49m\u001b[43mreturn_fids\u001b[49m\u001b[38;5;241;43m=\u001b[39;49m\u001b[43mreturn_fids\u001b[49m\u001b[43m,\u001b[49m\n\u001b[1;32m    214\u001b[0m \u001b[43m    \u001b[49m\u001b[43mdataset_kwargs\u001b[49m\u001b[38;5;241;43m=\u001b[39;49m\u001b[43mdataset_kwargs\u001b[49m\u001b[43m,\u001b[49m\n\u001b[1;32m    215\u001b[0m \u001b[43m    \u001b[49m\u001b[43mdatetime_as_string\u001b[49m\u001b[38;5;241;43m=\u001b[39;49m\u001b[43mdatetime_as_string\u001b[49m\u001b[43m,\u001b[49m\n\u001b[1;32m    216\u001b[0m \u001b[43m\u001b[49m\u001b[43m)\u001b[49m\n",
      "File \u001b[0;32mpyogrio/_io.pyx:1293\u001b[0m, in \u001b[0;36mpyogrio._io.ogr_read\u001b[0;34m()\u001b[0m\n",
      "File \u001b[0;32mpyogrio/_io.pyx:232\u001b[0m, in \u001b[0;36mpyogrio._io.ogr_open\u001b[0;34m()\u001b[0m\n",
      "\u001b[0;31mDataSourceError\u001b[0m: data/data/swb2_saraikela-kharsawan_gobindpur.geojson: No such file or directory"
     ]
    }
   ],
   "source": [
    "\n",
    "vector_item = create_vector_item()\n"
   ]
  },
  {
   "cell_type": "code",
   "execution_count": null,
   "id": "c41550e9",
   "metadata": {},
   "outputs": [
    {
     "name": "stdout",
     "output_type": "stream",
     "text": [
      "saraikela-kharsawan_gobindpur_2023-07-01_2024-06-30_LULCmap_10m.tif\n",
      "2023-07-01 00:00:00\n",
      "2024-06-30 00:00:00\n",
      "2023-07-01T00:00:00\n",
      " Root STAC Catalog created at: data/Corestack Catalogs/catalog.json\n"
     ]
    }
   ],
   "source": [
    "\n",
    "gobindpur_catalog = pystac.Catalog(\n",
    "    id=id_main,\n",
    "    title=title_main,\n",
    "    description=description_main\n",
    ")\n",
    "gobindpur_catalog.add_item(create_raster_item())\n",
    "gobindpur_catalog.add_item(create_vector_item())\n",
    "gobindpur_catalog.set_self_href(os.path.join(gobindpur_dir, \"catalog.json\"))\n",
    "\n",
    "corestack_catalog = pystac.Catalog(\n",
    "    id=\"corestack\",\n",
    "    title=\"CorestackCatalogs\",\n",
    "    description=\"Root catalog containing all subcatalogs\"\n",
    ")\n",
    "corestack_catalog.add_child(gobindpur_catalog)\n",
    "corestack_catalog.set_self_href(os.path.join(corestack_dir, \"catalog.json\"))\n",
    "corestack_catalog.normalize_and_save(corestack_dir, catalog_type=pystac.CatalogType.SELF_CONTAINED)\n",
    "\n",
    "print(f\" Root STAC Catalog created at: {os.path.join(corestack_dir, 'catalog.json')}\")\n"
   ]
  }
 ],
 "metadata": {
  "kernelspec": {
   "display_name": "Python 3",
   "language": "python",
   "name": "python3"
  },
  "language_info": {
   "codemirror_mode": {
    "name": "ipython",
    "version": 3
   },
   "file_extension": ".py",
   "mimetype": "text/x-python",
   "name": "python",
   "nbconvert_exporter": "python",
   "pygments_lexer": "ipython3",
   "version": "3.10.12"
  }
 },
 "nbformat": 4,
 "nbformat_minor": 5
}
