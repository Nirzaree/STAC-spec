{
 "cells": [
  {
   "cell_type": "code",
   "execution_count": 15,
   "id": "02b3cae7",
   "metadata": {},
   "outputs": [],
   "source": [
    "import os\n",
    "import json\n",
    "from datetime import datetime\n",
    "import rasterio\n",
    "import matplotlib.pyplot as plt\n",
    "from shapely.geometry import box, mapping\n",
    "import pystac\n",
    "import xml.etree.ElementTree as ET\n",
    "import sys\n",
    "sys.path.append('/home/vishnu/corestack_STAC')\n",
    "from constants import DEFAULT_START_DATE, DEFAULT_END_DATE\n"
   ]
  },
  {
   "cell_type": "code",
   "execution_count": 16,
   "id": "8319ca9d",
   "metadata": {},
   "outputs": [],
   "source": [
    "input_tif = \"/home/vishnu/corestack_STAC/data/saraikela-kharsawan_gobindpur_2023-07-01_2024-06-30_LULCmap_10m.tif\"\n",
    "qgis_style_path = \"/home/vishnu/corestack_STAC/data/style_file.qml\"\n",
    "data_dir = os.path.dirname(input_tif)\n"
   ]
  },
  {
   "cell_type": "code",
   "execution_count": null,
   "id": "35f2ff3d",
   "metadata": {},
   "outputs": [],
   "source": []
  },
  {
   "cell_type": "code",
   "execution_count": 17,
   "id": "0aeb7180",
   "metadata": {},
   "outputs": [],
   "source": [
    "def parse_qml_to_classes(qml_path):\n",
    "    try:\n",
    "        tree = ET.parse(qml_path)\n",
    "        root = tree.getroot()\n",
    "        classes = []\n",
    "        for entry in root.findall(\".//paletteEntry\"):\n",
    "            value = int(entry.attrib.get(\"value\", -1))\n",
    "            label = entry.attrib.get(\"label\", f\"Class {value}\")\n",
    "            color = entry.attrib.get(\"color\", \"#000000\")\n",
    "            classes.append({\n",
    "                \"value\": value,\n",
    "                \"name\": label,\n",
    "                \"color\": color\n",
    "            })\n",
    "        return sorted(classes, key=lambda x: x[\"value\"])\n",
    "    except Exception as e:\n",
    "        print(f\" Failed to parse QML: {e}\")\n",
    "        return []\n"
   ]
  },
  {
   "cell_type": "code",
   "execution_count": 18,
   "id": "fbffd4b5",
   "metadata": {},
   "outputs": [],
   "source": [
    "with rasterio.open(input_tif) as src:\n",
    "    bounds = src.bounds\n",
    "    bbox = [bounds.left, bounds.bottom, bounds.right, bounds.top]\n",
    "    geometry = mapping(box(*bbox))\n",
    "    epsg = src.crs.to_epsg()\n"
   ]
  },
  {
   "cell_type": "code",
   "execution_count": 20,
   "id": "83b23270",
   "metadata": {},
   "outputs": [],
   "source": [
    "filename = os.path.basename(input_tif)\n",
    "parts = filename.split('_')\n",
    "try:\n",
    "    start_date = datetime.strptime(parts[2], \"%Y-%m-%d\")\n",
    "    end_date = datetime.strptime(parts[3], \"%Y-%m-%d\")\n",
    "except Exception as e:\n",
    "    print(f\"Failed to extract dates from filename '{filename}': {e}\")\n",
    "    start_date = DEFAULT_START_DATE\n",
    "    end_date = DEFAULT_END_DATE\n"
   ]
  },
  {
   "cell_type": "code",
   "execution_count": 22,
   "id": "0f14fe3f",
   "metadata": {},
   "outputs": [],
   "source": [
    "output_dir = \"/home/vishnu/corestack_STAC/output_catalog_lulc\"\n",
    "item_id = \"gobindpur-lulc\"\n",
    "item_dir = os.path.join(output_dir, item_id)\n",
    "os.makedirs(item_dir, exist_ok=True)\n",
    "\n",
    "catalog = pystac.Catalog(\n",
    "    id=\"gobindpur-lulc-catalog\",\n",
    "    description=\"Land Use Land Cover (LULC) classification is a method used to identify different features on the Earth's surface, such as forests, rivers, croplands, or buildings...\"\n",
    ")\n",
    "\n",
    "item = pystac.Item(\n",
    "    id=item_id,\n",
    "    geometry=geometry,\n",
    "    bbox=bbox,\n",
    "    datetime=start_date,\n",
    "    properties={\n",
    "        \"start_datetime\": start_date.isoformat() + \"Z\",\n",
    "        \"end_datetime\": end_date.isoformat() + \"Z\",\n",
    "        \"proj:epsg\": epsg,\n",
    "        \"proj:bbox\": bbox\n",
    "    },\n",
    "    stac_extensions=[\n",
    "        \"https://stac-extensions.github.io/projection/v1.0.0/schema.json\"\n",
    "    ]\n",
    ")\n"
   ]
  },
  {
   "cell_type": "code",
   "execution_count": 23,
   "id": "a3d665f1",
   "metadata": {},
   "outputs": [],
   "source": [
    "item.add_asset(\n",
    "    key=\"raster-data\",\n",
    "    asset=pystac.Asset(\n",
    "        href=\"home/vishnu/corestack_STAC/data/\" + os.path.basename(input_tif),\n",
    "        media_type=pystac.MediaType.GEOTIFF,\n",
    "        roles=[\"data\"],\n",
    "        title=\"Gobindpur LULC Raster (GeoTIFF)\"\n",
    "    )\n",
    ")\n"
   ]
  },
  {
   "cell_type": "code",
   "execution_count": 24,
   "id": "cda2e26f",
   "metadata": {},
   "outputs": [
    {
     "name": "stdout",
     "output_type": "stream",
     "text": [
      "QML file found. Parsing classification...\n"
     ]
    }
   ],
   "source": [
    "if os.path.exists(qgis_style_path):\n",
    "    print(\"QML file found. Parsing classification...\")\n",
    "    lulc_classes = parse_qml_to_classes(qgis_style_path)\n",
    "\n",
    "    item.add_asset(\n",
    "        key=\"qgis-style\",\n",
    "        asset=pystac.Asset(\n",
    "            href=\"home/vishnu/corestack_STAC/data/style_file.qml\",\n",
    "            media_type=\"application/xml\",\n",
    "            roles=[\"style\"],\n",
    "            title=\"QGIS Style File\"\n",
    "        )\n",
    "    )\n",
    "\n",
    "    item.properties[\"classification:classes\"] = lulc_classes\n",
    "\n",
    "    legend_path = os.path.join(data_dir, \"legend.json\")\n",
    "    with open(legend_path, \"w\") as f:\n",
    "        json.dump(lulc_classes, f, indent=2)\n",
    "\n",
    "    item.add_asset(\n",
    "        key=\"legend\",\n",
    "        asset=pystac.Asset(\n",
    "            href=\"home/vishnu/corestack_STAC/data/legend.json\",\n",
    "            media_type=\"application/json\",\n",
    "            roles=[\"legend\"],\n",
    "            title=\"LULC Legend\"\n",
    "        )\n",
    "    )\n",
    "else:\n",
    "    print(\"QML file not found. Skipping classification section.\")\n"
   ]
  },
  {
   "cell_type": "code",
   "execution_count": 25,
   "id": "04a48641",
   "metadata": {},
   "outputs": [],
   "source": [
    "thumb_path = os.path.join(data_dir, \"thumbnail.png\")\n",
    "with rasterio.open(input_tif) as src:\n",
    "    array = src.read(1)\n",
    "\n",
    "plt.figure(figsize=(3, 3))\n",
    "plt.axis('off')\n",
    "plt.imshow(array, cmap='tab20')\n",
    "plt.savefig(thumb_path, bbox_inches='tight', pad_inches=0)\n",
    "plt.close()\n",
    "\n",
    "item.add_asset(\n",
    "    key=\"thumbnail\",\n",
    "    asset=pystac.Asset(\n",
    "        href=\"home/vishnu/corestack_STAC/data/thumbnail.png\",\n",
    "        media_type=\"image/png\",\n",
    "        roles=[\"thumbnail\"],\n",
    "        title=\"Thumbnail Preview\"\n",
    "    )\n",
    ")\n"
   ]
  },
  {
   "cell_type": "code",
   "execution_count": 26,
   "id": "39594ad6",
   "metadata": {},
   "outputs": [
    {
     "name": "stdout",
     "output_type": "stream",
     "text": [
      "\n",
      "STAC catalog created with:\n",
      " Dates from filename\n",
      " classification:classes from QML\n",
      " Thumbnail preview\n",
      " catalog.json: /home/vishnu/corestack_STAC/output_catalog_lulc/catalog.json\n",
      "item: /home/vishnu/corestack_STAC/output_catalog_lulc/gobindpur-lulc/gobindpur-lulc.json\n"
     ]
    }
   ],
   "source": [
    "catalog.add_item(item)\n",
    "catalog.normalize_hrefs(output_dir)\n",
    "catalog.make_all_asset_hrefs_relative()\n",
    "catalog.save(catalog_type=pystac.CatalogType.SELF_CONTAINED)\n",
    "\n",
    "\n",
    "default_item_path = os.path.join(item_dir, \"item.json\")\n",
    "custom_item_path = os.path.join(item_dir, f\"{item_id}.json\")\n",
    "if os.path.exists(default_item_path):\n",
    "    os.rename(default_item_path, custom_item_path)\n",
    "\n",
    "print(\"\\nSTAC catalog created with:\")\n",
    "print(\" Dates from filename\")\n",
    "print(\" classification:classes from QML\")\n",
    "print(\" Thumbnail preview\")\n",
    "print(\" catalog.json:\", os.path.join(output_dir, \"catalog.json\"))\n",
    "print(\"item:\", custom_item_path)\n"
   ]
  }
 ],
 "metadata": {
  "kernelspec": {
   "display_name": "Python 3",
   "language": "python",
   "name": "python3"
  },
  "language_info": {
   "codemirror_mode": {
    "name": "ipython",
    "version": 3
   },
   "file_extension": ".py",
   "mimetype": "text/x-python",
   "name": "python",
   "nbconvert_exporter": "python",
   "pygments_lexer": "ipython3",
   "version": "3.10.12"
  }
 },
 "nbformat": 4,
 "nbformat_minor": 5
}
